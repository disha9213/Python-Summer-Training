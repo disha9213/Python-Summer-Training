{
  "nbformat": 4,
  "nbformat_minor": 0,
  "metadata": {
    "colab": {
      "provenance": [],
      "authorship_tag": "ABX9TyMXlIRoEZCa9iwUasezE6wo",
      "include_colab_link": true
    },
    "kernelspec": {
      "name": "python3",
      "display_name": "Python 3"
    },
    "language_info": {
      "name": "python"
    }
  },
  "cells": [
    {
      "cell_type": "markdown",
      "metadata": {
        "id": "view-in-github",
        "colab_type": "text"
      },
      "source": [
        "<a href=\"https://colab.research.google.com/github/disha9213/Python-Summer-Training/blob/main/Chapter_3ipynb.ipynb\" target=\"_parent\"><img src=\"https://colab.research.google.com/assets/colab-badge.svg\" alt=\"Open In Colab\"/></a>"
      ]
    },
    {
      "cell_type": "code",
      "execution_count": null,
      "metadata": {
        "id": "o-xmJkcQjeKy"
      },
      "outputs": [],
      "source": [
        "#Outliner: majority of the dataset is similar except one\n",
        "''' example ->> salary of the 3 employees is is 50000 and of 1 employee is 1 lakh ,if a new employee has to be hired then its salary cannot be the median of all ; we will take mode in this case'''"
      ]
    },
    {
      "cell_type": "code",
      "source": [
        "#fill the null values with mean ,median and mode\n",
        "#filling null values is better then deleting null values"
      ],
      "metadata": {
        "id": "_T-9KNlDkbqy"
      },
      "execution_count": null,
      "outputs": []
    },
    {
      "cell_type": "code",
      "source": [
        "#List Comprehension :converting single line for loop into the line comprehension ;sigle line equation\n",
        "list_of_numbers = [1,2,3,4,6,7,23]\n",
        "k = []\n",
        "for i in list_of_numbers:\n",
        "  k.append(i**2)\n",
        "print(k)\n"
      ],
      "metadata": {
        "id": "ud3bROB9rA3X"
      },
      "execution_count": null,
      "outputs": []
    },
    {
      "cell_type": "code",
      "source": [
        "list_of_numbers = [1,2,3,4,6,7,23]\n",
        "k = [i**2 for i in list_of_numbers]\n",
        "print(k)"
      ],
      "metadata": {
        "colab": {
          "base_uri": "https://localhost:8080/"
        },
        "id": "6-RnhMVBr1Bh",
        "outputId": "5afa48f3-9ed6-4800-8c69-eda0d5d7af5b"
      },
      "execution_count": null,
      "outputs": [
        {
          "output_type": "stream",
          "name": "stdout",
          "text": [
            "[1, 4, 9, 16, 36, 49, 529]\n"
          ]
        }
      ]
    },
    {
      "cell_type": "code",
      "source": [
        "#square of even no\n",
        "list_of_numbers = [1,2,3,4,6,7,23]\n",
        "\n",
        "k = [i**2 for i in list_of_numbers if i%2 == 0 ]\n",
        "print(k)"
      ],
      "metadata": {
        "colab": {
          "base_uri": "https://localhost:8080/"
        },
        "id": "YF5rvZ9Tr89Q",
        "outputId": "8c5efadf-fe8a-445b-950e-34d1b20602a1"
      },
      "execution_count": null,
      "outputs": [
        {
          "output_type": "stream",
          "name": "stdout",
          "text": [
            "[4, 16, 36]\n"
          ]
        }
      ]
    },
    {
      "cell_type": "code",
      "source": [
        "#square of even no and cube of odd\n",
        "list_of_numbers = [1,2,3,4,6,7,9]\n",
        "\n",
        "k = [i**2 if i%2 == 0 else i**3 for i in list_of_numbers ]\n",
        "print(k)"
      ],
      "metadata": {
        "colab": {
          "base_uri": "https://localhost:8080/"
        },
        "id": "eUjrg7pjtZ3P",
        "outputId": "620f03b5-ea3a-46de-86dc-b38536a28d1b"
      },
      "execution_count": null,
      "outputs": [
        {
          "output_type": "stream",
          "name": "stdout",
          "text": [
            "[1, 4, 27, 16, 36, 343, 729]\n"
          ]
        }
      ]
    },
    {
      "cell_type": "code",
      "source": [
        "#Set Comprehension\n",
        "k = {i**2 if i%2 == 0 else i**3 for i in list_of_numbers }\n",
        "print(k)"
      ],
      "metadata": {
        "colab": {
          "base_uri": "https://localhost:8080/"
        },
        "id": "rZ5jibfRvSjh",
        "outputId": "ab3c117b-b6ee-4e2c-d834-26ea39626e90"
      },
      "execution_count": null,
      "outputs": [
        {
          "output_type": "stream",
          "name": "stdout",
          "text": [
            "{1, 4, 36, 16, 343, 729, 27}\n"
          ]
        }
      ]
    },
    {
      "cell_type": "code",
      "source": [
        "#First letter of the word using set comprehension\n",
        "a = \"I am dp.My hobbies are painting\"\n",
        "L = a.split()\n",
        "k= {i[0] for i in L}\n",
        "print(k)"
      ],
      "metadata": {
        "colab": {
          "base_uri": "https://localhost:8080/"
        },
        "id": "zD_8TgdCvvO2",
        "outputId": "1b3d873d-3dd3-497d-f3c9-9b13eead85f4"
      },
      "execution_count": null,
      "outputs": [
        {
          "output_type": "stream",
          "name": "stdout",
          "text": [
            "{'I', 'M'}\n"
          ]
        }
      ]
    },
    {
      "cell_type": "code",
      "source": [
        "#First letter of the sentence using set comprehension\n",
        "a = \"I am dp.My hobbies are painting\"\n",
        "L = a.split('.')\n",
        "k= {i[0] for i in L}\n",
        "print(k)"
      ],
      "metadata": {
        "colab": {
          "base_uri": "https://localhost:8080/"
        },
        "id": "S5JLPBY6xwqd",
        "outputId": "cc9b25c3-0186-48a6-8a77-af3957d34084"
      },
      "execution_count": null,
      "outputs": [
        {
          "output_type": "stream",
          "name": "stdout",
          "text": [
            "{'I', 'M'}\n"
          ]
        }
      ]
    },
    {
      "cell_type": "code",
      "source": [
        "#Factorial of 10\n",
        "num=10\n",
        "b=1\n",
        "for i in range(1,num+1):\n",
        "  b*=i\n",
        "print(b)"
      ],
      "metadata": {
        "colab": {
          "base_uri": "https://localhost:8080/"
        },
        "id": "58E9XwrVzN4F",
        "outputId": "b05f5d41-3938-4f5d-bf1b-60bb9e7e459a"
      },
      "execution_count": null,
      "outputs": [
        {
          "output_type": "stream",
          "name": "stdout",
          "text": [
            "3628800\n"
          ]
        }
      ]
    },
    {
      "cell_type": "markdown",
      "source": [
        "**FUNCTIONS**"
      ],
      "metadata": {
        "id": "4EtWpXs-ywyW"
      }
    },
    {
      "cell_type": "code",
      "source": [
        "#FUNCTIONS\n",
        "# def fe(n):\n",
        "#   a= list(range(1,n+1))\n",
        "#   print(a)\n",
        "#   fec = 1\n",
        "#   for i in range(1, n+1):\n",
        "#     fec = fec+1\n",
        "#   print(fec)\n",
        "\n",
        "  def fact(x):\n",
        "    factx=1\n",
        "    for i in range(1,x+1):\n",
        "      factx = factx*i\n",
        "    return factx\n",
        "  fact(3)\n",
        "  print(fact)"
      ],
      "metadata": {
        "id": "tea9m6gK56C5"
      },
      "execution_count": null,
      "outputs": []
    },
    {
      "cell_type": "code",
      "source": [
        "#Example: let us write a func which takes a date as a string and prints the quater as output\n",
        "\n",
        "def fact(sample_date):\n",
        "month = int(date_str.split('-')[1])\n",
        "\n",
        "    if  month in [1,2,3]:\n",
        "      print(\"Jan-March\")\n",
        "    elif month in [4,5,6] :\n",
        "      print(\"April-june\")\n",
        "    elif month in [7,8,9]:\n",
        "      print(\"July-Sep\")\n",
        "    elif month in [10,11,12] :\n",
        "      print(\"Oct-dec\")\n",
        "    else:\n",
        "      print(\"Invalid Input\")\n",
        "sample_date = '2020-07-01'\n",
        "print_quarter(sample_date)"
      ],
      "metadata": {
        "id": "OjUy-f-g63Cq"
      },
      "execution_count": null,
      "outputs": []
    },
    {
      "cell_type": "code",
      "source": [
        "#Add the 100 at the 3 index without using insert\n",
        "a = [1,2,3,4,5]  #expected:[1,2,3,100,4,5]\n",
        "new_a=a[0:3]\n",
        "new_a2 =a[3:]\n",
        "print(new_a)\n",
        "print(new_a2)\n",
        "value = [100]\n",
        "final_a = new_a+value+new_a2\n",
        "print(final_a)\n",
        "#OR\n",
        "a = [1,2,3,4,5]\n",
        "value = 100\n",
        "index = 3\n",
        "a = a[0:index] +[value] +a[index:]\n",
        "print(a)"
      ],
      "metadata": {
        "id": "rFz89S7P_anX"
      },
      "execution_count": null,
      "outputs": []
    },
    {
      "cell_type": "code",
      "source": [
        "#CLASS\n",
        "class <classname>():\n",
        "  def__init__(self,arg1,arg2.....):\n",
        "    make attribute of the Argument\n",
        "\n",
        "    method 1\n",
        "    def method_name(self):\n",
        "      return desired_output\n",
        "\n",
        "    method 2\n",
        "    def method_name(self):\n",
        "      return desired_output\n",
        "\n",
        "    method 3\n",
        "       def method_name(self):\n",
        "      return desired_output\n"
      ],
      "metadata": {
        "id": "PvGCJCUh_Ye-"
      },
      "execution_count": null,
      "outputs": []
    },
    {
      "cell_type": "code",
      "source": [
        "class bpit:\n",
        "  def __init__(self,name,age):\n",
        "    self.name = name\n",
        "    self.age = age\n",
        "  def student_name(self):  #self is used to call the above attribute\n",
        "    print(f'This is bpit class and name of student is : {self.name}')\n",
        "  def student_name(self):\n",
        "    print(f'This is bpit class and age of student is : {self.age}')\n",
        "  b= bpit(name = 'rahul', age ='20')\n",
        "  b.student_name()"
      ],
      "metadata": {
        "id": "09ZNbu5_DLdM"
      },
      "execution_count": null,
      "outputs": []
    },
    {
      "cell_type": "code",
      "source": [
        "#Area of circle\n",
        "def area(r):\n",
        "  return 3.14*r*r\n",
        "area(3)"
      ],
      "metadata": {
        "id": "597IIKlHEJpQ"
      },
      "execution_count": null,
      "outputs": []
    },
    {
      "cell_type": "code",
      "source": [
        "#Circumference of circle\n",
        "def circumference(r):\n",
        "  return 2*3.14*r\n",
        "circumference(3)"
      ],
      "metadata": {
        "colab": {
          "base_uri": "https://localhost:8080/"
        },
        "id": "AhVVThqLEiXq",
        "outputId": "ee80fd46-0385-437c-a7c4-0da9aec7697a"
      },
      "execution_count": 1,
      "outputs": [
        {
          "output_type": "execute_result",
          "data": {
            "text/plain": [
              "18.84"
            ]
          },
          "metadata": {},
          "execution_count": 1
        }
      ]
    },
    {
      "cell_type": "code",
      "source": [
        "#Method\n",
        "#AREA AND CIRCUMFERENCE USING METHOD FROM SIR NOTES"
      ],
      "metadata": {
        "id": "oH3L9gz7E3vO"
      },
      "execution_count": null,
      "outputs": []
    }
  ]
}