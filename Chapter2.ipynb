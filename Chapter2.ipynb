{
  "nbformat": 4,
  "nbformat_minor": 0,
  "metadata": {
    "colab": {
      "provenance": [],
      "authorship_tag": "ABX9TyOT0bdyih5Fh5U2ORpCBmJe",
      "include_colab_link": true
    },
    "kernelspec": {
      "name": "python3",
      "display_name": "Python 3"
    },
    "language_info": {
      "name": "python"
    }
  },
  "cells": [
    {
      "cell_type": "markdown",
      "metadata": {
        "id": "view-in-github",
        "colab_type": "text"
      },
      "source": [
        "<a href=\"https://colab.research.google.com/github/disha9213/Python-Summer-Training/blob/main/Chapter2.ipynb\" target=\"_parent\"><img src=\"https://colab.research.google.com/assets/colab-badge.svg\" alt=\"Open In Colab\"/></a>"
      ]
    },
    {
      "cell_type": "code",
      "execution_count": null,
      "metadata": {
        "colab": {
          "base_uri": "https://localhost:8080/"
        },
        "id": "oUQUc_ZVedfC",
        "outputId": "ecbea169-c166-4be9-f9df-812444bd6fe1"
      },
      "outputs": [
        {
          "output_type": "execute_result",
          "data": {
            "text/plain": [
              "list"
            ]
          },
          "metadata": {},
          "execution_count": 1
        }
      ],
      "source": [
        "#Lists :mutable, easy to use\n",
        "a=[1,2,3,4,'hello',True]\n",
        "type(a)"
      ]
    },
    {
      "cell_type": "code",
      "source": [
        "#indexing\n",
        "print(a[4])"
      ],
      "metadata": {
        "colab": {
          "base_uri": "https://localhost:8080/"
        },
        "id": "yNEFj9mOglHL",
        "outputId": "6958d21b-e85b-42d3-fc3e-fe7fa20007aa"
      },
      "execution_count": null,
      "outputs": [
        {
          "output_type": "stream",
          "name": "stdout",
          "text": [
            "hello\n"
          ]
        }
      ]
    },
    {
      "cell_type": "code",
      "source": [
        "a=[1,2,3,[1,2,3,'hello'],'rahul']\n",
        "print(a[3][3])\n",
        "print(a[3][3][1])"
      ],
      "metadata": {
        "colab": {
          "base_uri": "https://localhost:8080/"
        },
        "id": "C4pGHWcgg-Mm",
        "outputId": "9e052c4b-7f0c-4af5-eb6b-cf05f832a921"
      },
      "execution_count": null,
      "outputs": [
        {
          "output_type": "stream",
          "name": "stdout",
          "text": [
            "hello\n",
            "e\n"
          ]
        }
      ]
    },
    {
      "cell_type": "code",
      "source": [
        "#slicing\n",
        "a=[1,2,3,4,5,6,7]\n",
        "print(a[2:5])\n",
        "print(a[2:5:2])"
      ],
      "metadata": {
        "colab": {
          "base_uri": "https://localhost:8080/"
        },
        "id": "zw6Ep2wxh2ZC",
        "outputId": "e1ca97df-8e79-401c-878f-9e9c7e2e3976"
      },
      "execution_count": null,
      "outputs": [
        {
          "output_type": "stream",
          "name": "stdout",
          "text": [
            "[3, 4, 5]\n",
            "[3, 5]\n"
          ]
        }
      ]
    },
    {
      "cell_type": "code",
      "source": [
        "#Concatenate:common element will repeat\n",
        "a=[1,2,3,4,5]\n",
        "b=[4,5,6,7]\n",
        "# always store in a variable bcz it is temporary if we directly print a+b\n",
        "c=a+b\n",
        "print(c)\n"
      ],
      "metadata": {
        "colab": {
          "base_uri": "https://localhost:8080/"
        },
        "id": "1kUoadC2knNq",
        "outputId": "289704c6-ccbb-43b2-980b-87c56cd67d12"
      },
      "execution_count": null,
      "outputs": [
        {
          "output_type": "stream",
          "name": "stdout",
          "text": [
            "[1, 2, 3, 4, 5, 4, 5, 6, 7]\n"
          ]
        }
      ]
    },
    {
      "cell_type": "code",
      "source": [
        "#Append method : permanently add method\n",
        "a=[1,2,3,4,5]\n",
        "a.append('rahul')\n",
        "print(a)"
      ],
      "metadata": {
        "colab": {
          "base_uri": "https://localhost:8080/"
        },
        "id": "CosvNejglLWN",
        "outputId": "93d3dbd7-3834-402f-9aa9-ca8a40efccdd"
      },
      "execution_count": null,
      "outputs": [
        {
          "output_type": "stream",
          "name": "stdout",
          "text": [
            "[1, 2, 3, 4, 5, 'rahul']\n"
          ]
        }
      ]
    },
    {
      "cell_type": "code",
      "source": [
        "#b is added as last element\n",
        "a=[1,2,3,4,5]\n",
        "b=[3,4,5,6]\n",
        "a.append(b)\n",
        "print(a)"
      ],
      "metadata": {
        "colab": {
          "base_uri": "https://localhost:8080/"
        },
        "id": "Sb6Cu4T5mNUl",
        "outputId": "89e349dc-dc01-4b8d-db7a-47822ae50b92"
      },
      "execution_count": null,
      "outputs": [
        {
          "output_type": "stream",
          "name": "stdout",
          "text": [
            "[1, 2, 3, 4, 5, [3, 4, 5, 6]]\n"
          ]
        }
      ]
    },
    {
      "cell_type": "code",
      "source": [
        "#EXTEND :Elements of b are added\n",
        "a=[1,2,3,4,5]\n",
        "b=[3,4,5,6]\n",
        "a.extend(b)\n",
        "print(a)"
      ],
      "metadata": {
        "colab": {
          "base_uri": "https://localhost:8080/"
        },
        "id": "zRFMxz9XmmBq",
        "outputId": "67f37d5c-e7c1-46e6-afc9-f0bb63a895b9"
      },
      "execution_count": null,
      "outputs": [
        {
          "output_type": "stream",
          "name": "stdout",
          "text": [
            "[1, 2, 3, 4, 5, 3, 4, 5, 6]\n"
          ]
        }
      ]
    },
    {
      "cell_type": "code",
      "source": [
        "#length :start from 1\n",
        "a=[1,2,3,4,5,6]\n",
        "print(len(a))"
      ],
      "metadata": {
        "colab": {
          "base_uri": "https://localhost:8080/"
        },
        "id": "nIuggwYynRTW",
        "outputId": "09d025dc-755a-4e69-a155-d73ef21ffb7b"
      },
      "execution_count": null,
      "outputs": [
        {
          "output_type": "stream",
          "name": "stdout",
          "text": [
            "6\n"
          ]
        }
      ]
    },
    {
      "cell_type": "code",
      "source": [
        "#min method\n",
        "#max method\n",
        "#sum"
      ],
      "metadata": {
        "id": "deNQJ36_nwi8"
      },
      "execution_count": null,
      "outputs": []
    },
    {
      "cell_type": "code",
      "source": [
        "# SORTED FUNCTION\n",
        "a=[1,2,3,4,100,99]\n",
        "print(sorted(a))\n",
        "print(sorted(a,reverse = True))"
      ],
      "metadata": {
        "colab": {
          "base_uri": "https://localhost:8080/"
        },
        "id": "8Qa6_7HGn6Qm",
        "outputId": "d1bed13f-73ec-43aa-d381-3620b4d67897"
      },
      "execution_count": null,
      "outputs": [
        {
          "output_type": "stream",
          "name": "stdout",
          "text": [
            "[1, 2, 3, 4, 99, 100]\n",
            "[100, 99, 4, 3, 2, 1]\n"
          ]
        }
      ]
    },
    {
      "cell_type": "code",
      "source": [
        "#POP OR REMOVE METHOD\n",
        "#Pop is used when we know the index value\n",
        "a=[1,2,3,4,5,'rahul','mohan']\n",
        "a.pop(6)\n"
      ],
      "metadata": {
        "colab": {
          "base_uri": "https://localhost:8080/",
          "height": 35
        },
        "id": "NLFnuwveoFNm",
        "outputId": "2066693d-332e-4c9e-c143-2f0d972b7747"
      },
      "execution_count": null,
      "outputs": [
        {
          "output_type": "execute_result",
          "data": {
            "text/plain": [
              "'mohan'"
            ],
            "application/vnd.google.colaboratory.intrinsic+json": {
              "type": "string"
            }
          },
          "metadata": {},
          "execution_count": 28
        }
      ]
    },
    {
      "cell_type": "code",
      "source": [
        "# remove method is used while using the element and only the first mohan will be deleted if there are more than 1 mohan\n",
        "a=[1,2,3,4,5,'rahul','mohan','mohan']\n",
        "a.remove('mohan')\n",
        "print(a)"
      ],
      "metadata": {
        "colab": {
          "base_uri": "https://localhost:8080/"
        },
        "id": "isR4-Tboor12",
        "outputId": "256fe078-7932-4065-bcd9-decb93bcee4a"
      },
      "execution_count": null,
      "outputs": [
        {
          "output_type": "stream",
          "name": "stdout",
          "text": [
            "[1, 2, 3, 4, 5, 'rahul', 'mohan']\n"
          ]
        }
      ]
    },
    {
      "cell_type": "markdown",
      "source": [
        "SORT METHOD\n",
        "COUNT METHOD BY YOUR OWN"
      ],
      "metadata": {
        "id": "vFb1OI28qFrH"
      }
    },
    {
      "cell_type": "code",
      "source": [],
      "metadata": {
        "id": "rBABLW91qEug"
      },
      "execution_count": null,
      "outputs": []
    },
    {
      "cell_type": "code",
      "source": [
        "#REVERSE METHOD\n",
        "a=[1,2,0,100]\n",
        "a.reverse()\n",
        "print(a)"
      ],
      "metadata": {
        "colab": {
          "base_uri": "https://localhost:8080/"
        },
        "id": "j3hwEy4ApfHc",
        "outputId": "f535c9c6-c7a6-42f1-810b-1a6508ef15fa"
      },
      "execution_count": null,
      "outputs": [
        {
          "output_type": "stream",
          "name": "stdout",
          "text": [
            "[100, 0, 2, 1]\n"
          ]
        }
      ]
    },
    {
      "cell_type": "code",
      "source": [
        "#using palindrome method\n",
        "a=[1,2,0,100]\n",
        "a[::-1]"
      ],
      "metadata": {
        "colab": {
          "base_uri": "https://localhost:8080/"
        },
        "id": "NcqIVptXp7Ry",
        "outputId": "a46c6aaf-9610-429d-abf9-b776d3eac5b1"
      },
      "execution_count": null,
      "outputs": [
        {
          "output_type": "execute_result",
          "data": {
            "text/plain": [
              "[100, 0, 2, 1]"
            ]
          },
          "metadata": {},
          "execution_count": 36
        }
      ]
    },
    {
      "cell_type": "markdown",
      "source": [],
      "metadata": {
        "id": "oDX3wakXrtSh"
      }
    },
    {
      "cell_type": "code",
      "source": [
        "#TUPLES : formed using () : immutable(cannot change): indexing is possible :slicng is also possible\n",
        "a =(1,2,3,4)\n",
        "type(a)"
      ],
      "metadata": {
        "colab": {
          "base_uri": "https://localhost:8080/"
        },
        "id": "x8DfhzhYrPtZ",
        "outputId": "1e29b7c3-263c-48b1-e4a1-1eded94c7b4d"
      },
      "execution_count": null,
      "outputs": [
        {
          "output_type": "execute_result",
          "data": {
            "text/plain": [
              "tuple"
            ]
          },
          "metadata": {},
          "execution_count": 37
        }
      ]
    },
    {
      "cell_type": "code",
      "source": [
        "#SLICING\n",
        "a =(1,2,3,4)\n",
        "print(a[0:])"
      ],
      "metadata": {
        "colab": {
          "base_uri": "https://localhost:8080/"
        },
        "id": "N5ABYJMWrfms",
        "outputId": "79999998-a7b3-400f-a2d2-5690efa2814c"
      },
      "execution_count": null,
      "outputs": [
        {
          "output_type": "stream",
          "name": "stdout",
          "text": [
            "(1, 2, 3, 4)\n"
          ]
        }
      ]
    },
    {
      "cell_type": "code",
      "source": [
        "#not possible : CONVERT THE TUPLE INTO LIST AND THEN REMOVE OR REPLACE THE ELEMENT THEN CONVERT THE LIST INTO TUPLE\n",
        "a =(1,2,3,4)\n",
        "a[0] = 100\n",
        "print(a)"
      ],
      "metadata": {
        "colab": {
          "base_uri": "https://localhost:8080/",
          "height": 176
        },
        "id": "GkiGZM9NsCrx",
        "outputId": "7ec47373-f4a5-4a2b-b6ab-29c71c0e91f6"
      },
      "execution_count": null,
      "outputs": [
        {
          "output_type": "error",
          "ename": "TypeError",
          "evalue": "'tuple' object does not support item assignment",
          "traceback": [
            "\u001b[0;31m---------------------------------------------------------------------------\u001b[0m",
            "\u001b[0;31mTypeError\u001b[0m                                 Traceback (most recent call last)",
            "\u001b[0;32m/tmp/ipython-input-39-3236645289.py\u001b[0m in \u001b[0;36m<cell line: 0>\u001b[0;34m()\u001b[0m\n\u001b[1;32m      1\u001b[0m \u001b[0ma\u001b[0m \u001b[0;34m=\u001b[0m\u001b[0;34m(\u001b[0m\u001b[0;36m1\u001b[0m\u001b[0;34m,\u001b[0m\u001b[0;36m2\u001b[0m\u001b[0;34m,\u001b[0m\u001b[0;36m3\u001b[0m\u001b[0;34m,\u001b[0m\u001b[0;36m4\u001b[0m\u001b[0;34m)\u001b[0m\u001b[0;34m\u001b[0m\u001b[0;34m\u001b[0m\u001b[0m\n\u001b[0;32m----> 2\u001b[0;31m \u001b[0ma\u001b[0m\u001b[0;34m[\u001b[0m\u001b[0;36m0\u001b[0m\u001b[0;34m]\u001b[0m \u001b[0;34m=\u001b[0m \u001b[0;36m100\u001b[0m\u001b[0;34m\u001b[0m\u001b[0;34m\u001b[0m\u001b[0m\n\u001b[0m\u001b[1;32m      3\u001b[0m \u001b[0mprint\u001b[0m\u001b[0;34m(\u001b[0m\u001b[0ma\u001b[0m\u001b[0;34m)\u001b[0m\u001b[0;34m\u001b[0m\u001b[0;34m\u001b[0m\u001b[0m\n",
            "\u001b[0;31mTypeError\u001b[0m: 'tuple' object does not support item assignment"
          ]
        }
      ]
    },
    {
      "cell_type": "code",
      "source": [
        "#ZIP METHOD\n",
        "#ignore the sohan\n",
        "a=['rahul','mohan','sohan']\n",
        "b=['singh','kumar']\n",
        "#list is used bcz it will give python directory\n",
        "print(list(zip(a,b)))"
      ],
      "metadata": {
        "colab": {
          "base_uri": "https://localhost:8080/"
        },
        "id": "mq6L7ogAs7LB",
        "outputId": "cc3cecb1-6883-4e02-bc52-87b4351d2074"
      },
      "execution_count": null,
      "outputs": [
        {
          "output_type": "stream",
          "name": "stdout",
          "text": [
            "[('rahul', 'singh'), ('mohan', 'kumar')]\n"
          ]
        }
      ]
    },
    {
      "cell_type": "code",
      "source": [
        "#SETS : cannot have duplicate values :unordered collection therefore no INDEXING\n",
        "a= set() #empty set\n",
        "a =[] #empty list\n",
        "a = (,) #empty tuple"
      ],
      "metadata": {
        "id": "JR98LLMOuRHq"
      },
      "execution_count": null,
      "outputs": []
    },
    {
      "cell_type": "code",
      "source": [
        "a={1,2,3,4,5}\n",
        "print(a[0]) #not possible it will give error"
      ],
      "metadata": {
        "id": "VWK3L8vgvGfS"
      },
      "execution_count": null,
      "outputs": []
    },
    {
      "cell_type": "code",
      "source": [
        "#ADD METHOD\n",
        "a={1,2,3,4,5}\n",
        "a.add('rahul')\n",
        "print(a)"
      ],
      "metadata": {
        "colab": {
          "base_uri": "https://localhost:8080/"
        },
        "id": "jzvwsN3ZvX6x",
        "outputId": "6fca18f9-1c41-40be-ccb0-c9038786b0c9"
      },
      "execution_count": null,
      "outputs": [
        {
          "output_type": "stream",
          "name": "stdout",
          "text": [
            "{1, 2, 3, 4, 5, 'rahul'}\n"
          ]
        }
      ]
    },
    {
      "cell_type": "code",
      "source": [
        "#Update method\n",
        "a ={1,2,3,4,5}\n",
        "b={4,5,6}\n",
        "a.update(b)\n",
        "print(a)"
      ],
      "metadata": {
        "colab": {
          "base_uri": "https://localhost:8080/"
        },
        "id": "K53i791ZviSp",
        "outputId": "c37fe8d3-c40c-4516-9693-507243343711"
      },
      "execution_count": null,
      "outputs": [
        {
          "output_type": "stream",
          "name": "stdout",
          "text": [
            "{1, 2, 3, 4, 5, 6}\n"
          ]
        }
      ]
    },
    {
      "cell_type": "code",
      "source": [
        "#WE USE REMOVE METHOD FOR THE SET NOT POP METHOD\n",
        "a={1, 2, 3, 4, 5, 'rahul'}\n",
        "a.remove(3)\n",
        "print(a)"
      ],
      "metadata": {
        "colab": {
          "base_uri": "https://localhost:8080/"
        },
        "id": "9AvfPDOBv2VH",
        "outputId": "604c5bef-2ca3-4ca6-fe5b-b3a585461d37"
      },
      "execution_count": null,
      "outputs": [
        {
          "output_type": "stream",
          "name": "stdout",
          "text": [
            "{1, 2, 4, 5, 'rahul'}\n"
          ]
        }
      ]
    },
    {
      "cell_type": "code",
      "source": [
        "a={1, 2, 3, 4, 5, 'rahul','Rahul'}\n",
        "print(a)"
      ],
      "metadata": {
        "colab": {
          "base_uri": "https://localhost:8080/"
        },
        "id": "5xfqvkSawdds",
        "outputId": "d6da05a7-98a9-4fe1-fa13-3e2eb2e4d735"
      },
      "execution_count": null,
      "outputs": [
        {
          "output_type": "stream",
          "name": "stdout",
          "text": [
            "{1, 2, 3, 4, 5, 'Rahul', 'rahul'}\n"
          ]
        }
      ]
    },
    {
      "cell_type": "code",
      "source": [
        "#UNION METHOD: NO DUBLICATE ->> joins"
      ],
      "metadata": {
        "id": "Ru7VGSohw_lX"
      },
      "execution_count": null,
      "outputs": []
    },
    {
      "cell_type": "code",
      "source": [
        "#INTERSECTION : COMMON ELEMENTS\n",
        "#DIFFERENCE ->>> a-b ;b-a\n",
        "#SYMMETRIC DIFFERENCE ->>> denoted by a^b"
      ],
      "metadata": {
        "id": "WRhIBktAxGav"
      },
      "execution_count": null,
      "outputs": []
    },
    {
      "cell_type": "code",
      "source": [
        "#DICTIONARIES\n",
        "#key: value ->> key(unique)\n",
        "a = {'name':'mohan','gender':'male'}\n",
        "type(a)\n",
        "print(a.values())\n",
        "print(a.keys())"
      ],
      "metadata": {
        "colab": {
          "base_uri": "https://localhost:8080/"
        },
        "id": "7qaLwGg4xTdl",
        "outputId": "1b5b5de0-d868-43cd-cc4f-9f1f281706dd"
      },
      "execution_count": null,
      "outputs": [
        {
          "output_type": "stream",
          "name": "stdout",
          "text": [
            "dict_values(['mohan', 'male'])\n",
            "dict_keys(['name', 'gender'])\n"
          ]
        }
      ]
    },
    {
      "cell_type": "code",
      "source": [
        "#indexing\n",
        "a = {'name':'mohan','gender':'male'}\n",
        "print(a['name'])\n",
        "print(a['gender'])"
      ],
      "metadata": {
        "colab": {
          "base_uri": "https://localhost:8080/"
        },
        "id": "6uCUvMI6zHK0",
        "outputId": "7ca9b40e-8fd0-4b47-91a5-c2670ec432cd"
      },
      "execution_count": null,
      "outputs": [
        {
          "output_type": "stream",
          "name": "stdout",
          "text": [
            "mohan\n",
            "male\n"
          ]
        }
      ]
    },
    {
      "cell_type": "code",
      "source": [
        "#to find the keys using values is difficult but vice versa is possible bcz keys are unique"
      ],
      "metadata": {
        "id": "I8dd2ql6zVzr"
      },
      "execution_count": null,
      "outputs": []
    },
    {
      "cell_type": "code",
      "source": [
        "#items: divide the keys and values\n",
        "\n"
      ],
      "metadata": {
        "id": "CTghfjL8zlT7"
      },
      "execution_count": null,
      "outputs": []
    },
    {
      "cell_type": "code",
      "source": [
        "a['name']='rahul'  #change the values of key\n",
        "print(a)"
      ],
      "metadata": {
        "colab": {
          "base_uri": "https://localhost:8080/"
        },
        "id": "5bR2Rjo60NtY",
        "outputId": "bfe19396-4c40-423e-a404-e5096b6af42d"
      },
      "execution_count": null,
      "outputs": [
        {
          "output_type": "stream",
          "name": "stdout",
          "text": [
            "{'name': 'rahul', 'gender': 'male'}\n"
          ]
        }
      ]
    },
    {
      "cell_type": "code",
      "source": [
        "a['Name'] = 'rahul' #it will add as key = Name\n",
        "print(a)"
      ],
      "metadata": {
        "colab": {
          "base_uri": "https://localhost:8080/"
        },
        "id": "hsk_m4dW0TIR",
        "outputId": "9f8ca5f7-a6fe-40c7-e5bd-c85ce60f6e2f"
      },
      "execution_count": null,
      "outputs": [
        {
          "output_type": "stream",
          "name": "stdout",
          "text": [
            "{'name': 'rahul', 'gender': 'male', 'Name': 'rahul'}\n"
          ]
        }
      ]
    },
    {
      "cell_type": "code",
      "source": [
        "#Adding two dictionaries\n",
        "b= {'city' :'delhi','age':20,'name':'shyam'}\n",
        "a.update(b)\n",
        "print(a)"
      ],
      "metadata": {
        "colab": {
          "base_uri": "https://localhost:8080/"
        },
        "id": "Pu_qtZjC0hlS",
        "outputId": "c518254a-e297-4120-8fde-b2c72595d9c1"
      },
      "execution_count": null,
      "outputs": [
        {
          "output_type": "stream",
          "name": "stdout",
          "text": [
            "{'name': 'shyam', 'gender': 'male', 'Name': 'rahul', 'city': 'delhi', 'age': 20}\n"
          ]
        }
      ]
    },
    {
      "cell_type": "code",
      "source": [
        "#making dic of 2 lists\n",
        "country_list = ['India','usa','uk']\n",
        "city_last = ['ND' ,'Canberrra','london']\n",
        "print(dict(zip(country_list,city_last)))"
      ],
      "metadata": {
        "colab": {
          "base_uri": "https://localhost:8080/"
        },
        "id": "D8tdLxbQ1Dd5",
        "outputId": "d6d04c30-f3ec-42b4-8ac4-e19054cdc679"
      },
      "execution_count": null,
      "outputs": [
        {
          "output_type": "stream",
          "name": "stdout",
          "text": [
            "{'India': 'ND', 'usa': 'Canberrra', 'uk': 'london'}\n"
          ]
        }
      ]
    },
    {
      "cell_type": "code",
      "source": [
        "#if-else conditional statements\n",
        "#EVEN AND ODD\n",
        "x=5\n",
        "if(x%2 == 0):\n",
        "  print(\"Even\")\n",
        "else:\n",
        "  print(\"odd\")"
      ],
      "metadata": {
        "colab": {
          "base_uri": "https://localhost:8080/"
        },
        "id": "dbG4dmmSSR1n",
        "outputId": "d74258d2-2d1e-43f3-bc9a-592ea71d95a5"
      },
      "execution_count": null,
      "outputs": [
        {
          "output_type": "stream",
          "name": "stdout",
          "text": [
            "odd\n"
          ]
        }
      ]
    },
    {
      "cell_type": "code",
      "source": [
        "#for loop\n",
        "a = ['India','usa','uk']\n",
        "for i in a:\n",
        "  print(f'Welcome {i}')"
      ],
      "metadata": {
        "colab": {
          "base_uri": "https://localhost:8080/"
        },
        "id": "xKOKTusqWbtN",
        "outputId": "a5643330-818e-4ef5-f100-9ff064fc8c4a"
      },
      "execution_count": null,
      "outputs": [
        {
          "output_type": "stream",
          "name": "stdout",
          "text": [
            "Welcome India\n",
            "Welcome usa\n",
            "Welcome uk\n"
          ]
        }
      ]
    },
    {
      "cell_type": "code",
      "source": [
        "a = [1,2,3,4,5,6,7,8,9]\n",
        "b= []\n",
        "for i in a:\n",
        " # print(f'Square of {i} = {i*i}')\n",
        "  b.append(i*i)\n",
        "print(b)"
      ],
      "metadata": {
        "colab": {
          "base_uri": "https://localhost:8080/"
        },
        "id": "X_Lc-tKvZMMK",
        "outputId": "94a396c9-9a82-4dff-dc4b-adb28157053e"
      },
      "execution_count": null,
      "outputs": [
        {
          "output_type": "stream",
          "name": "stdout",
          "text": [
            "[1, 4, 9, 16, 25, 36, 49, 64, 81]\n"
          ]
        }
      ]
    },
    {
      "cell_type": "code",
      "source": [
        "#Prime number (1-100)\n",
        "#Fibonacci Series  ->>>> hw"
      ],
      "metadata": {
        "id": "t2at8x8lZ5B9"
      },
      "execution_count": null,
      "outputs": []
    },
    {
      "cell_type": "code",
      "source": [
        "#SQUARE OF EVEN NUMBER\n",
        "a= [1,2,3,4,5,6,7,8,9]\n",
        "for i in a:\n",
        "  if i%2 == 0:\n",
        "    print(\"Square \",i*i)\n",
        "  else:\n",
        "    print(\"Cube\",i**3)\n"
      ],
      "metadata": {
        "colab": {
          "base_uri": "https://localhost:8080/"
        },
        "id": "cED_C8RNbYG8",
        "outputId": "908bb08e-9695-4271-d58a-9f509f869e74"
      },
      "execution_count": null,
      "outputs": [
        {
          "output_type": "stream",
          "name": "stdout",
          "text": [
            "Cube 1\n",
            "Square  4\n",
            "Cube 27\n",
            "Square  16\n",
            "Cube 125\n",
            "Square  36\n",
            "Cube 343\n",
            "Square  64\n",
            "Cube 729\n"
          ]
        }
      ]
    },
    {
      "cell_type": "code",
      "source": [
        "#Store even and odd no in diff variable\n",
        "a= [1,2,3,4,5,6,7,8,9]\n",
        "b = []\n",
        "c= []\n",
        "for i in a:\n",
        "  if i%2 == 0:\n",
        "    #print(\"Square \",i*i)\n",
        "    b.append(i*i)\n",
        "  else:\n",
        "    #print(\"Cube\",i**3)\n",
        "    c.append(i**3)\n",
        "print(b)\n",
        "print(c)"
      ],
      "metadata": {
        "colab": {
          "base_uri": "https://localhost:8080/"
        },
        "id": "0xteDx_1cQWN",
        "outputId": "adcee0a0-804b-47bf-c242-3d6f3eb3d0bd"
      },
      "execution_count": null,
      "outputs": [
        {
          "output_type": "stream",
          "name": "stdout",
          "text": [
            "[4, 16, 36, 64]\n",
            "[1, 27, 125, 343, 729]\n"
          ]
        }
      ]
    },
    {
      "cell_type": "code",
      "source": [],
      "metadata": {
        "id": "cKLyRIlOddxO"
      },
      "execution_count": null,
      "outputs": []
    },
    {
      "cell_type": "code",
      "source": [
        "#Range  method\n",
        "a =list(range(1,101))\n",
        "print(a)"
      ],
      "metadata": {
        "colab": {
          "base_uri": "https://localhost:8080/"
        },
        "id": "YM5uRQKVcsLd",
        "outputId": "b2169feb-a0dc-4f08-f844-f245bd470278"
      },
      "execution_count": null,
      "outputs": [
        {
          "output_type": "stream",
          "name": "stdout",
          "text": [
            "[1, 2, 3, 4, 5, 6, 7, 8, 9, 10, 11, 12, 13, 14, 15, 16, 17, 18, 19, 20, 21, 22, 23, 24, 25, 26, 27, 28, 29, 30, 31, 32, 33, 34, 35, 36, 37, 38, 39, 40, 41, 42, 43, 44, 45, 46, 47, 48, 49, 50, 51, 52, 53, 54, 55, 56, 57, 58, 59, 60, 61, 62, 63, 64, 65, 66, 67, 68, 69, 70, 71, 72, 73, 74, 75, 76, 77, 78, 79, 80, 81, 82, 83, 84, 85, 86, 87, 88, 89, 90, 91, 92, 93, 94, 95, 96, 97, 98, 99, 100]\n"
          ]
        }
      ]
    },
    {
      "cell_type": "code",
      "source": [
        "#SUM OF SQUARE OF EVEN NUMBER\n",
        "a= [1,2,3,4,5,6,7,8,9]\n",
        "even_list = 0\n",
        "for i in a:\n",
        "  even_list = even_list + i**2\n",
        "print(even_list)"
      ],
      "metadata": {
        "colab": {
          "base_uri": "https://localhost:8080/"
        },
        "id": "6cQ82EKjdeqW",
        "outputId": "515af280-f02d-4ff0-b230-bdb58e95ce03"
      },
      "execution_count": null,
      "outputs": [
        {
          "output_type": "stream",
          "name": "stdout",
          "text": [
            "285\n"
          ]
        }
      ]
    },
    {
      "cell_type": "code",
      "source": [
        "a = \"I am dp\"\n",
        "for i in a:\n",
        "  print(i)"
      ],
      "metadata": {
        "colab": {
          "base_uri": "https://localhost:8080/"
        },
        "id": "4eROtCiAd2JU",
        "outputId": "7bcc3c80-d2c8-49d6-d7fb-18f4efdfc458"
      },
      "execution_count": null,
      "outputs": [
        {
          "output_type": "stream",
          "name": "stdout",
          "text": [
            "I\n",
            " \n",
            "a\n",
            "m\n",
            " \n",
            "d\n",
            "p\n"
          ]
        }
      ]
    },
    {
      "cell_type": "code",
      "source": [
        "a = \"I am dp\"\n",
        "for i in a:\n",
        "  if i not in ['a','d']:  #if only want a and d then remove \"not\"\n",
        "    print(i)"
      ],
      "metadata": {
        "colab": {
          "base_uri": "https://localhost:8080/"
        },
        "id": "56z4mdQxeSeK",
        "outputId": "f7ccc513-bd54-40eb-aa25-9e0ea78a0f30"
      },
      "execution_count": null,
      "outputs": [
        {
          "output_type": "stream",
          "name": "stdout",
          "text": [
            "I\n",
            " \n",
            "m\n",
            " \n",
            "p\n"
          ]
        }
      ]
    },
    {
      "cell_type": "code",
      "source": [
        "#making word as the element\n",
        "a = \"I am dp\"\n",
        "a.split()"
      ],
      "metadata": {
        "colab": {
          "base_uri": "https://localhost:8080/"
        },
        "id": "jIkhSLtSewHf",
        "outputId": "964eb308-6ac6-4087-8d48-081801111636"
      },
      "execution_count": null,
      "outputs": [
        {
          "output_type": "execute_result",
          "data": {
            "text/plain": [
              "['I', 'am', 'dp']"
            ]
          },
          "metadata": {},
          "execution_count": 30
        }
      ]
    },
    {
      "cell_type": "code",
      "source": [
        "a = \"I am dp\"\n",
        "L = a.split()\n",
        "for i in L:\n",
        "  print(i[0])  # for last element of each word = -1"
      ],
      "metadata": {
        "colab": {
          "base_uri": "https://localhost:8080/"
        },
        "id": "7fRTzMCWe6ms",
        "outputId": "4bff1e73-d498-4639-f054-03ea5a4d6beb"
      },
      "execution_count": null,
      "outputs": [
        {
          "output_type": "stream",
          "name": "stdout",
          "text": [
            "I\n",
            "a\n",
            "d\n"
          ]
        }
      ]
    },
    {
      "cell_type": "code",
      "source": [
        "days = ['Monday','Tuesday','Wednesday','Thrusday','Friday','Saturday','Sunday']\n",
        "for i in days:\n",
        "  print(i[:-3])\n",
        "#OR USE REPLACE METHOD\n",
        "for i in days:\n",
        "  print(i.replace('day',''))"
      ],
      "metadata": {
        "colab": {
          "base_uri": "https://localhost:8080/"
        },
        "id": "XCLzmsJKfrUh",
        "outputId": "7e598759-5e69-4c43-c7f0-398808410213"
      },
      "execution_count": null,
      "outputs": [
        {
          "output_type": "stream",
          "name": "stdout",
          "text": [
            "Mon\n",
            "Tues\n",
            "Wednes\n",
            "Thrus\n",
            "Fri\n",
            "Satur\n",
            "Sun\n",
            "Mon\n",
            "Tues\n",
            "Wednes\n",
            "Thrus\n",
            "Fri\n",
            "Satur\n",
            "Sun\n"
          ]
        }
      ]
    },
    {
      "cell_type": "code",
      "source": [
        "#while loop\n",
        "while a<15:\n",
        "  print(a)\n",
        "  a = a+1\n",
        "else:\n",
        "  print('Done')"
      ],
      "metadata": {
        "colab": {
          "base_uri": "https://localhost:8080/"
        },
        "id": "fp2pClPGjTB7",
        "outputId": "c68cd918-49e7-460e-b51f-833c52a3fd23"
      },
      "execution_count": null,
      "outputs": [
        {
          "output_type": "stream",
          "name": "stdout",
          "text": [
            "10\n",
            "11\n",
            "12\n",
            "13\n",
            "14\n",
            "Done\n"
          ]
        }
      ]
    }
  ]
}